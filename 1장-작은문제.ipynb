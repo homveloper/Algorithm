{
 "cells": [
  {
   "cell_type": "markdown",
   "metadata": {},
   "source": [
    "# 피보나치 수열\n",
    "\n",
    "피보나치 수열은 첫 번째와 두 번째 숫자를 제외한 모든 숫자가 이전 두 숫자를 합한 숫자를 나열한 수열이다.\n",
    "\n",
    "```\n",
    "0 1 2 3 5 8 13 21 34 ...\n",
    "```\n",
    "\n",
    "수열의 첫 번째 피보나치 수의 값은 0이다. 네 번째 피보나치 수의 값은 2이다. n번째 피보나치 수의 값은 아래 수식을 통해 구할 수 있다.\n",
    "\n",
    "$fib(n) = fib(n-1) + fib(n-2)$\n",
    "\n",
    "피보나치 수의 값을 계산하기 위한 위 수식은 재귀 함수로 쉽게 구현할 수 있다.\n",
    "\n",
    "## 재귀 함수\n",
    "\n",
    "재귀 함수란 자기 자신을 호출하는 함수이다. 위의 의사코드로 피보나치 수열의 주어진 값을 반환하는 첫 번째 재귀 함수를 작성해보자."
   ]
  },
  {
   "cell_type": "code",
   "execution_count": 1,
   "metadata": {},
   "outputs": [
    {
     "ename": "RecursionError",
     "evalue": "maximum recursion depth exceeded",
     "output_type": "error",
     "traceback": [
      "\u001b[1;31m---------------------------------------------------------------------------\u001b[0m",
      "\u001b[1;31mRecursionError\u001b[0m                            Traceback (most recent call last)",
      "\u001b[1;32m~\\AppData\\Local\\Temp/ipykernel_20512/1131563848.py\u001b[0m in \u001b[0;36m<module>\u001b[1;34m\u001b[0m\n\u001b[0;32m      2\u001b[0m     \u001b[1;32mreturn\u001b[0m \u001b[0mfib1\u001b[0m\u001b[1;33m(\u001b[0m\u001b[0mn\u001b[0m\u001b[1;33m-\u001b[0m\u001b[1;36m1\u001b[0m\u001b[1;33m)\u001b[0m \u001b[1;33m+\u001b[0m \u001b[0mfib1\u001b[0m\u001b[1;33m(\u001b[0m\u001b[0mn\u001b[0m\u001b[1;33m-\u001b[0m\u001b[1;36m2\u001b[0m\u001b[1;33m)\u001b[0m\u001b[1;33m\u001b[0m\u001b[1;33m\u001b[0m\u001b[0m\n\u001b[0;32m      3\u001b[0m \u001b[1;33m\u001b[0m\u001b[0m\n\u001b[1;32m----> 4\u001b[1;33m \u001b[0mprint\u001b[0m\u001b[1;33m(\u001b[0m\u001b[0mfib1\u001b[0m\u001b[1;33m(\u001b[0m\u001b[1;36m5\u001b[0m\u001b[1;33m)\u001b[0m\u001b[1;33m)\u001b[0m\u001b[1;33m\u001b[0m\u001b[1;33m\u001b[0m\u001b[0m\n\u001b[0m",
      "\u001b[1;32m~\\AppData\\Local\\Temp/ipykernel_20512/1131563848.py\u001b[0m in \u001b[0;36mfib1\u001b[1;34m(n)\u001b[0m\n\u001b[0;32m      1\u001b[0m \u001b[1;32mdef\u001b[0m \u001b[0mfib1\u001b[0m\u001b[1;33m(\u001b[0m \u001b[0mn\u001b[0m \u001b[1;33m:\u001b[0m \u001b[0mint\u001b[0m\u001b[1;33m)\u001b[0m \u001b[1;33m->\u001b[0m \u001b[0mint\u001b[0m\u001b[1;33m:\u001b[0m\u001b[1;33m\u001b[0m\u001b[1;33m\u001b[0m\u001b[0m\n\u001b[1;32m----> 2\u001b[1;33m     \u001b[1;32mreturn\u001b[0m \u001b[0mfib1\u001b[0m\u001b[1;33m(\u001b[0m\u001b[0mn\u001b[0m\u001b[1;33m-\u001b[0m\u001b[1;36m1\u001b[0m\u001b[1;33m)\u001b[0m \u001b[1;33m+\u001b[0m \u001b[0mfib1\u001b[0m\u001b[1;33m(\u001b[0m\u001b[0mn\u001b[0m\u001b[1;33m-\u001b[0m\u001b[1;36m2\u001b[0m\u001b[1;33m)\u001b[0m\u001b[1;33m\u001b[0m\u001b[1;33m\u001b[0m\u001b[0m\n\u001b[0m\u001b[0;32m      3\u001b[0m \u001b[1;33m\u001b[0m\u001b[0m\n\u001b[0;32m      4\u001b[0m \u001b[0mprint\u001b[0m\u001b[1;33m(\u001b[0m\u001b[0mfib1\u001b[0m\u001b[1;33m(\u001b[0m\u001b[1;36m5\u001b[0m\u001b[1;33m)\u001b[0m\u001b[1;33m)\u001b[0m\u001b[1;33m\u001b[0m\u001b[1;33m\u001b[0m\u001b[0m\n",
      "... last 1 frames repeated, from the frame below ...\n",
      "\u001b[1;32m~\\AppData\\Local\\Temp/ipykernel_20512/1131563848.py\u001b[0m in \u001b[0;36mfib1\u001b[1;34m(n)\u001b[0m\n\u001b[0;32m      1\u001b[0m \u001b[1;32mdef\u001b[0m \u001b[0mfib1\u001b[0m\u001b[1;33m(\u001b[0m \u001b[0mn\u001b[0m \u001b[1;33m:\u001b[0m \u001b[0mint\u001b[0m\u001b[1;33m)\u001b[0m \u001b[1;33m->\u001b[0m \u001b[0mint\u001b[0m\u001b[1;33m:\u001b[0m\u001b[1;33m\u001b[0m\u001b[1;33m\u001b[0m\u001b[0m\n\u001b[1;32m----> 2\u001b[1;33m     \u001b[1;32mreturn\u001b[0m \u001b[0mfib1\u001b[0m\u001b[1;33m(\u001b[0m\u001b[0mn\u001b[0m\u001b[1;33m-\u001b[0m\u001b[1;36m1\u001b[0m\u001b[1;33m)\u001b[0m \u001b[1;33m+\u001b[0m \u001b[0mfib1\u001b[0m\u001b[1;33m(\u001b[0m\u001b[0mn\u001b[0m\u001b[1;33m-\u001b[0m\u001b[1;36m2\u001b[0m\u001b[1;33m)\u001b[0m\u001b[1;33m\u001b[0m\u001b[1;33m\u001b[0m\u001b[0m\n\u001b[0m\u001b[0;32m      3\u001b[0m \u001b[1;33m\u001b[0m\u001b[0m\n\u001b[0;32m      4\u001b[0m \u001b[0mprint\u001b[0m\u001b[1;33m(\u001b[0m\u001b[0mfib1\u001b[0m\u001b[1;33m(\u001b[0m\u001b[1;36m5\u001b[0m\u001b[1;33m)\u001b[0m\u001b[1;33m)\u001b[0m\u001b[1;33m\u001b[0m\u001b[1;33m\u001b[0m\u001b[0m\n",
      "\u001b[1;31mRecursionError\u001b[0m: maximum recursion depth exceeded"
     ]
    }
   ],
   "source": [
    "def fib1( n : int) -> int:\n",
    "    return fib1(n-1) + fib1(n-2)\n",
    "\n",
    "print(fib1(5))"
   ]
  },
  {
   "cell_type": "markdown",
   "metadata": {},
   "source": [
    "다음 코드를 실행하면 재귀 함수의 호출 제한 횟수를 넘어서버리는 문제가 발생한다. 이는 fib1()이 최종 결과를 반환하지 않고 계속 실행되기 때문이다. \n",
    "\n",
    "```\n",
    "fib1(5)\n",
    "= fib1(4) + fib1(3)\n",
    "= fib1(3) + fib1(2) + fib1(2) + fib1(1)\n",
    "= fib1(2) + fib1(1) + fib1(1) + fib1(0) + fib1(1) + fib1(0) + fib1(0) + fib1(-1)\n",
    "...\n",
    "```\n",
    "\n",
    "이런 상황을 무한 재귀<sup>infinite recursion</sup> 라고 부르며, 무한 루프<sup>infinite loop</sup>와 유사하다."
   ]
  },
  {
   "cell_type": "markdown",
   "metadata": {},
   "source": [
    "## 재귀 함수의 기저 조건\n",
    "\n",
    "fib1()을 실행할 때 까지 파이썬 인터프리터에서 무한 재귀를 호출한다고 알려주지 않는다. 컴파일러가 아닌 인터프리터 환경에서 무한 재귀를 피하는 것은 프로그래머의 의무다. 무한 재귀가 발생하는 이유는 기저 조건<sup>base case</sup>을 설정하지 않았기 때문이다. 재귀 함수에서 기저 조건은 탈출 조건이다.\n",
    "\n",
    "피보나치 수열의 경우 0과 1의 특수한 처음 두 수열값으로 기저 조건으로 설정한다. 0과 1은 수열의 이전 두 숫자의 합이 아닌 특수한 두 초깃값이다. 이를 기저 조건으로 지정해보자."
   ]
  },
  {
   "cell_type": "code",
   "execution_count": 5,
   "metadata": {},
   "outputs": [
    {
     "name": "stdout",
     "output_type": "stream",
     "text": [
      "fib(5) = fib(3) + fib(4)\n",
      "fib(3) = fib(1) + fib(2)\n",
      "n : 1\n",
      "fib(2) = fib(0) + fib(1)\n",
      "n : 0\n",
      "n : 1\n",
      "fib(4) = fib(2) + fib(3)\n",
      "fib(2) = fib(0) + fib(1)\n",
      "n : 0\n",
      "n : 1\n",
      "fib(3) = fib(1) + fib(2)\n",
      "n : 1\n",
      "fib(2) = fib(0) + fib(1)\n",
      "n : 0\n",
      "n : 1\n",
      "5\n"
     ]
    }
   ],
   "source": [
    "def fib2(n: int) -> int:\n",
    "\n",
    "    if n < 2:\n",
    "        # print(f'n : {n}')\n",
    "        return n\n",
    "\n",
    "    # print(f'fib({n}) = fib({n-2}) + fib({n-1})')\n",
    "    return fib2(n-2) + fib2(n-1)\n",
    "\n",
    "print(fib2(5))\n",
    "# print(fib2(10))"
   ]
  },
  {
   "cell_type": "markdown",
   "metadata": {},
   "source": [
    "## 메모이제이션\n",
    "\n",
    "메모이제이션<sup>memoization</sup>은 계산 작업이 완료되면 결과를 저장하는 기술이다. 그러므로 이전에 실행된 같은 계산을 수행할 때 다시 계산하지 않고 저장된 값을 사용할 수 있다."
   ]
  },
  {
   "cell_type": "code",
   "execution_count": 11,
   "metadata": {},
   "outputs": [],
   "source": [
    "from typing import Dict\n",
    "memo : Dict[int, int] = {0:0, 1:1}\n",
    "\n",
    "def fib3(n: int) -> int:\n",
    "    if n not in memo:\n",
    "        memo[n] = fib3(n-1) + fib3(n-2)\n",
    "    return memo[n]"
   ]
  },
  {
   "cell_type": "code",
   "execution_count": 12,
   "metadata": {},
   "outputs": [
    {
     "name": "stdout",
     "output_type": "stream",
     "text": [
      "832040\n",
      "5\n"
     ]
    }
   ],
   "source": [
    "print(fib3(30))\n",
    "print(fib3(5))"
   ]
  },
  {
   "cell_type": "markdown",
   "metadata": {},
   "source": [
    "fib3()를 더 단순화 하는 방법이 있다. 파이썬 에는 모든 함수를 자동으로 메모이징하는 내장형 데커레이터가 있다. @functools.lru_cache() 데커레이터를 사용하여 fib4()를 완성하자."
   ]
  },
  {
   "cell_type": "code",
   "execution_count": 16,
   "metadata": {},
   "outputs": [
    {
     "name": "stdout",
     "output_type": "stream",
     "text": [
      "354224848179261915075\n",
      "12586269025\n"
     ]
    }
   ],
   "source": [
    "from functools import lru_cache\n",
    "\n",
    "@lru_cache(maxsize=None) # None : 캐시 크기 제한 없음\n",
    "def fib4(n: int) -> int:\n",
    "    if n<2:\n",
    "        return n\n",
    "    return fib4(n-1) + fib4(n-2)\n",
    "\n",
    "print(fib4(100))\n",
    "print(fib4(50))"
   ]
  },
  {
   "cell_type": "markdown",
   "metadata": {},
   "source": [
    "## 간단한 피보나치 수열\n",
    "\n",
    "피보나치 수열을 계산하는 훨씬더 좋은 방법이 있다. 고전 방식으로 피보나치 수열을 풀어보자."
   ]
  },
  {
   "cell_type": "code",
   "execution_count": 17,
   "metadata": {},
   "outputs": [
    {
     "name": "stdout",
     "output_type": "stream",
     "text": [
      "354224848179261915075\n",
      "12586269025\n"
     ]
    }
   ],
   "source": [
    "def fib5(n: int) -> int:\n",
    "    if n == 0:\n",
    "        return n\n",
    "    \n",
    "    last = 0\n",
    "    next = 1\n",
    "\n",
    "    for _ in range(1,n):\n",
    "        last, next = next, last+next\n",
    "\n",
    "    return next\n",
    "\n",
    "print(fib5(100))\n",
    "print(fib5(50))"
   ]
  },
  {
   "cell_type": "markdown",
   "metadata": {},
   "source": [
    "위의 방법을 사용하면 for문이 최대 n-1번 실행된다. 이것은 피보나치 수열을 구하는 가장 효율적인 방법이다. fib2(20)은 함수가 21,891번 호출되지만 fib5(20)은 반복문을 19번만 순회한다.\n",
    "\n",
    "단순 재귀를 사용했을 때는 상향식<sup>buttom-up</sup>으로 계산한다. 위 반복문 방법을 사용했을 때는 하향식<sup>top-down</sup>으로 계산한다. 재귀가 문제를 해결하는 가장 직관적인 방법이긴 하나 fib1()과 fib2()와 같이 성능에 상당한 문제를 일으킬 수 있다. 재귀로 구현할 수 있는 문제는 반복문으로도 해결할 수 있다."
   ]
  },
  {
   "cell_type": "markdown",
   "metadata": {},
   "source": [
    "## 제너레이터와 피보나치 수\n",
    "\n",
    "지금까지 피보나치 수열의 단일값을 구하는 함수를 작성했다. 대신 해당 단일값 까지 전체 수열을 구하려면 어떻게 해야할까? yield문을 사용하여 fib5()를 파이썬 제너레이터로 쉽게 변환할 수 있다."
   ]
  },
  {
   "cell_type": "code",
   "execution_count": 19,
   "metadata": {},
   "outputs": [
    {
     "name": "stdout",
     "output_type": "stream",
     "text": [
      "0\n",
      "1\n",
      "1\n",
      "2\n",
      "3\n",
      "5\n",
      "8\n",
      "13\n",
      "21\n",
      "34\n",
      "55\n"
     ]
    }
   ],
   "source": [
    "from typing import Generator\n",
    "\n",
    "def fib6(n: int) -> Generator[int, None, None]:\n",
    "    yield 0\n",
    "    \n",
    "    if n > 0:\n",
    "        yield 1\n",
    "    \n",
    "    last = 0\n",
    "    next = 1\n",
    "\n",
    "    for _ in range(1,n):\n",
    "        last, next = next, last+next\n",
    "        yield next\n",
    "\n",
    "\n",
    "for i in fib6(10):\n",
    "    print(i)"
   ]
  },
  {
   "cell_type": "markdown",
   "metadata": {},
   "source": [
    "# 압축 알고리즘\n",
    "\n",
    "가상 공간이나 현실 세계에서 공간을 절약하는 것을 중요하다. 작은 공간을 잘 이용하는건 효율적이며 비용을 절약할 수 있다. 자신과 가족에게 필요한 공간보다 더 큰 아파트로 이사하여 임차료를 많이 내는 것보다 조금 더 작은 필요한 만큼의 공간으로 이사하면 임차료를 줄일 수 있다.\n",
    "\n",
    "데이터를 서버에 저장할 때 바이트 단위로 돈을 지불해야 하는 경우 저장 비용을 주링기 위해 파일을 압축할 수 있다. **압축**<sup>compression</sup>은 공간을 덜 차지하는 방식으로 데이터를 인코딩하는 행위다. **압축 풀기**<sup>decompression</sup>는 압축의 역과정으로 디코딩하는 행위다.\n",
    "\n",
    "데이터를 압축하면 저장 공간의 효율성이 높아지지만 모든 데이터를 압축하지 않는 이유는 무엇일까? 시간과 공간 사이에 절충점<sup>trade-off</sup>이 있기 때문이다. 데이터를 압축하고 원래 형식으로 되돌리려면 시간이 걸린다. 데이터 압축은 데이터가 빠르게 실행되는 것보다 작은 저장 공간을 차지하는 것이 우선순위가 높은 상황에서만 의미가 있다. 인터넷을 통해 전송되는 대용량 파일을 생각해보자. 압축된 파일을 푸는 시간보다 전송하는 시간이 더 오래 걸리기 때문에 당연히 압축하는 것이 더 효율적이다. 또한 서버에 파일을 저장할 때 클라이언트에서 한번만 압축하면 된다.\n",
    "\n"
   ]
  }
 ],
 "metadata": {
  "interpreter": {
   "hash": "e67f0c4f5d1cbdf4d613e47a762e98723dbc0e71b385e7345d1d16d2df1d586c"
  },
  "kernelspec": {
   "display_name": "Python 3.7.11 64-bit ('keras': conda)",
   "language": "python",
   "name": "python3"
  },
  "language_info": {
   "codemirror_mode": {
    "name": "ipython",
    "version": 3
   },
   "file_extension": ".py",
   "mimetype": "text/x-python",
   "name": "python",
   "nbconvert_exporter": "python",
   "pygments_lexer": "ipython3",
   "version": "3.7.11"
  },
  "orig_nbformat": 4
 },
 "nbformat": 4,
 "nbformat_minor": 2
}
